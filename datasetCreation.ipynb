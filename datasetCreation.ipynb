{
 "cells": [
  {
   "cell_type": "code",
   "execution_count": 1,
   "id": "c5a4892c-2000-4a06-87b7-800c6fcc2448",
   "metadata": {},
   "outputs": [
    {
     "name": "stdout",
     "output_type": "stream",
     "text": [
      "   age  height  current_weight  activity_level  caloric_intake  future_weight\n",
      "0   56     178              69               1            2997      68.558378\n",
      "1   46     196              75               3            3306      74.981614\n",
      "2   32     153              78               3            2623      76.375977\n",
      "3   25     161              50               3            3067      49.011171\n",
      "4   38     194              84               3            2363      80.980824\n"
     ]
    }
   ],
   "source": [
    "import numpy as np\n",
    "import pandas as pd\n",
    "\n",
    "# Set random seed for reproducibility\n",
    "np.random.seed(42)\n",
    "\n",
    "# Number of samples for the dataset\n",
    "n_samples = 1000\n",
    "\n",
    "# Generating synthetic data\n",
    "data = {\n",
    "    'age': np.random.randint(18, 60, n_samples),\n",
    "    'height': np.random.randint(150, 200, n_samples),\n",
    "    'current_weight': np.random.randint(50, 120, n_samples),\n",
    "    'activity_level': np.random.choice([1, 2, 3], n_samples),  # 1: Low, 2: Medium, 3: High\n",
    "    'caloric_intake': np.random.randint(1500, 3500, n_samples),\n",
    "}\n",
    "\n",
    "# Converting to a DataFrame\n",
    "df = pd.DataFrame(data)\n",
    "\n",
    "# Simulating 'future_weight' as a combination of current weight, activity level, and caloric intake\n",
    "# Assuming higher activity levels and lower caloric intake lead to weight reduction\n",
    "df['future_weight'] = df['current_weight'] - (\n",
    "    (df['activity_level'] * 0.5) - (df['caloric_intake'] / 10000) + np.random.normal(0, 1, n_samples)\n",
    ")\n",
    "\n",
    "# Save the dataset to a CSV file\n",
    "df.to_csv('fitness_data.csv', index=False)\n",
    "\n",
    "# Display the first few rows of the dataset to ensure it's correct\n",
    "print(df.head())\n"
   ]
  },
  {
   "cell_type": "code",
   "execution_count": null,
   "id": "91d4b5f0-4aee-433d-a113-9ca965aebd7f",
   "metadata": {},
   "outputs": [],
   "source": []
  }
 ],
 "metadata": {
  "kernelspec": {
   "display_name": "Python 3 (ipykernel)",
   "language": "python",
   "name": "python3"
  },
  "language_info": {
   "codemirror_mode": {
    "name": "ipython",
    "version": 3
   },
   "file_extension": ".py",
   "mimetype": "text/x-python",
   "name": "python",
   "nbconvert_exporter": "python",
   "pygments_lexer": "ipython3",
   "version": "3.12.2"
  }
 },
 "nbformat": 4,
 "nbformat_minor": 5
}
